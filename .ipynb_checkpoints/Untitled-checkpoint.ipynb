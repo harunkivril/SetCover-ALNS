{
 "cells": [
  {
   "cell_type": "code",
   "execution_count": 85,
   "metadata": {},
   "outputs": [],
   "source": [
    "# %load ParamTuning.py\n",
    "from LNS import *\n",
    "from Data import *\n",
    "import pandas as pd\n",
    "\n",
    "set_list= [r'scp410.txt', r'scpnrg2.txt']\n",
    "\n",
    "dongu = 3\n",
    "ts=[30,60]\n",
    "ns=[5, 10, 20]\n",
    "lambdas = [0.1, 0.5, 0.9]\n",
    "w1 = 0\n",
    "w2 = 0.2\n",
    "w3 = [0.4, 0.6]\n",
    "w4 = [1, 1.5]\n",
    "ks = [3, 10]\n",
    "allowances = 0.1\n",
    "\n",
    "'''\n",
    "results = np.empty((3,3,2,2,2,len(set_list),dongu))\n",
    "\n",
    "for a, set in enumerate(set_list):\n",
    "    data = DataObject(set)\n",
    "    t = ts[a]\n",
    "    for b, n in enumerate(ns):\n",
    "        for c, lamb in enumerate(lambdas):\n",
    "            for d, w_3 in enumerate(w3):\n",
    "                for e, w_4 in enumerate(w4):\n",
    "                    for f, k in enumerate(ks):\n",
    "                        for i in range(dongu):\n",
    "                            LNS(data, t, n, lamb, k , [w1,w2,w_3,w_4])\n",
    "                            results[b][c][d][e][f][a][i] = data.cost_function(data.s_best)\n",
    "                            print('Params:', b,c,d,e,f,a,i, 'Result: ',results[b][c][d][e][f][a][i])\n",
    "np.savetxt('results.txt',results.reshape(len(set_list)*3*3*2*2*2*dongu))'''\n",
    "\n",
    "results = np.loadtxt('results.txt').reshape((3,3,2,2,2,len(set_list),dongu))\n",
    "bests = []\n",
    "best = np.min(results, axis = 6)\n",
    "for a in range(len(set_list)):\n",
    "    bests.append(np.min(best[:,:,:,:,:,a].ravel()))\n",
    "relatives = np.empty((3,3,2,2,2,len(set_list),dongu))\n",
    "averages = np.empty((3,3,2,2,2,len(set_list)))\n",
    "stds = np.empty((3,3,2,2,2,len(set_list)))\n",
    "scores = np.empty((3,3,2,2,2,len(set_list)))\n",
    "for b, n in enumerate(ns):\n",
    "    for c, lamb in enumerate(lambdas):\n",
    "        for d, w_3 in enumerate(w3):\n",
    "            for e, w_4 in enumerate(w4):\n",
    "                for f, k in enumerate(ks):\n",
    "                    for a, set in enumerate(set_list):\n",
    "                        for i in range(dongu):\n",
    "                            relatives[b][c][d][e][f][a][i] = 100*np.abs(results[b][c][d][e][f][a][i] - bests[a])/bests[a]\n",
    "                        averages[b][c][d][e][f][a] = np.mean(relatives[b][c][d][e][f][a])\n",
    "                        stds[b][c][d][e][f][a] = np.std(relatives[b][c][d][e][f][a])\n",
    "                    scores[b][c][d][e][f] = np.mean(averages[b][c][d][e][f][a])/np.mean(stds[b][c][d][e][f][a])\n"
   ]
  },
  {
   "cell_type": "code",
   "execution_count": 86,
   "metadata": {
    "scrolled": false
   },
   "outputs": [
    {
     "data": {
      "text/plain": [
       "[992.0, 404.0]"
      ]
     },
     "execution_count": 86,
     "metadata": {},
     "output_type": "execute_result"
    }
   ],
   "source": [
    "bests"
   ]
  },
  {
   "cell_type": "code",
   "execution_count": 106,
   "metadata": {
    "scrolled": true
   },
   "outputs": [],
   "source": [
    "pd.DataFrame(np.mean(averages, axis = 5).reshape(3, 24)).to_excel('Averages.xlsx')"
   ]
  },
  {
   "cell_type": "code",
   "execution_count": 107,
   "metadata": {},
   "outputs": [],
   "source": [
    "pd.DataFrame(np.mean(stds, axis = 5).reshape(3, 24)).to_excel('Stds.xlsx')"
   ]
  },
  {
   "cell_type": "code",
   "execution_count": 108,
   "metadata": {},
   "outputs": [],
   "source": [
    "test_result = np.loadtxt('test_result.txt')"
   ]
  },
  {
   "cell_type": "code",
   "execution_count": 109,
   "metadata": {},
   "outputs": [],
   "source": [
    "test_iter = np.loadtxt('test_iter.txt')"
   ]
  },
  {
   "cell_type": "code",
   "execution_count": 118,
   "metadata": {},
   "outputs": [],
   "source": [
    "table = pd.DataFrame(test_result, index=['scp49', 'scprng1'])"
   ]
  },
  {
   "cell_type": "code",
   "execution_count": 112,
   "metadata": {},
   "outputs": [
    {
     "data": {
      "text/plain": [
       "array([[219., 209., 207., 200., 183., 194., 193., 174., 200., 196.],\n",
       "       [ 75.,  58.,  57.,  56.,  54.,  57.,  62.,  58.,  62.,  61.]])"
      ]
     },
     "execution_count": 112,
     "metadata": {},
     "output_type": "execute_result"
    }
   ],
   "source": [
    "test_iter"
   ]
  },
  {
   "cell_type": "code",
   "execution_count": 117,
   "metadata": {},
   "outputs": [],
   "source": [
    "best_known = [1,2]"
   ]
  },
  {
   "cell_type": "code",
   "execution_count": 124,
   "metadata": {},
   "outputs": [
    {
     "ename": "AttributeError",
     "evalue": "'numpy.ndarray' object has no attribute '_c'",
     "output_type": "error",
     "traceback": [
      "\u001b[1;31m---------------------------------------------------------------------------\u001b[0m",
      "\u001b[1;31mAttributeError\u001b[0m                            Traceback (most recent call last)",
      "\u001b[1;32m<ipython-input-124-ea4131175b15>\u001b[0m in \u001b[0;36m<module>\u001b[1;34m()\u001b[0m\n\u001b[1;32m----> 1\u001b[1;33m \u001b[0mtable\u001b[0m\u001b[1;33m.\u001b[0m\u001b[0mvalues\u001b[0m\u001b[1;33m.\u001b[0m\u001b[0m_c\u001b[0m\u001b[1;33m[\u001b[0m\u001b[0mbest_known\u001b[0m\u001b[1;33m]\u001b[0m\u001b[1;33m\u001b[0m\u001b[0m\n\u001b[0m",
      "\u001b[1;31mAttributeError\u001b[0m: 'numpy.ndarray' object has no attribute '_c'"
     ]
    }
   ],
   "source": [
    "np._c[table.values, best_known]"
   ]
  },
  {
   "cell_type": "code",
   "execution_count": null,
   "metadata": {},
   "outputs": [],
   "source": []
  }
 ],
 "metadata": {
  "kernelspec": {
   "display_name": "Python 3",
   "language": "python",
   "name": "python3"
  },
  "language_info": {
   "codemirror_mode": {
    "name": "ipython",
    "version": 3
   },
   "file_extension": ".py",
   "mimetype": "text/x-python",
   "name": "python",
   "nbconvert_exporter": "python",
   "pygments_lexer": "ipython3",
   "version": "3.6.5"
  }
 },
 "nbformat": 4,
 "nbformat_minor": 2
}
